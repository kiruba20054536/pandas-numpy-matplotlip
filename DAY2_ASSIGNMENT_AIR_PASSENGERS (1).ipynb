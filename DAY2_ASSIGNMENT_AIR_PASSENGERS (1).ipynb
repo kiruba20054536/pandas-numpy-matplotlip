{
 "cells": [
  {
   "cell_type": "markdown",
   "id": "25af3676-d2ff-4bb8-8e8d-c57af556f4bc",
   "metadata": {},
   "source": [
    "PART - B\n",
    "Airline Passenger:"
   ]
  },
  {
   "cell_type": "code",
   "execution_count": 4,
   "id": "e4f12954-27d7-4f75-9b83-1c4ce04d67be",
   "metadata": {},
   "outputs": [],
   "source": [
    "import numpy as np\n",
    "import pandas as pd"
   ]
  },
  {
   "cell_type": "markdown",
   "id": "fe9cfd99-63fd-4098-a074-059455c9f8c3",
   "metadata": {},
   "source": [
    "\n",
    "1. Load and Analyze Passenger\n",
    "Data"
   ]
  },
  {
   "cell_type": "code",
   "execution_count": 5,
   "id": "08890ca0-57d4-422f-b4ec-7cc814d6f283",
   "metadata": {},
   "outputs": [
    {
     "name": "stdout",
     "output_type": "stream",
     "text": [
      "       Month  Passengers\n",
      "0    1949-01         112\n",
      "1    1949-02         118\n",
      "2    1949-03         132\n",
      "3    1949-04         129\n",
      "4    1949-05         121\n",
      "..       ...         ...\n",
      "139  1960-08         606\n",
      "140  1960-09         508\n",
      "141  1960-10         461\n",
      "142  1960-11         390\n",
      "143  1960-12         432\n",
      "\n",
      "[144 rows x 2 columns]\n"
     ]
    }
   ],
   "source": [
    "\n",
    "df = pd.read_csv(r'C:\\Users\\mccmrfcs\\Downloads\\AirPassengers.csv')\n",
    "\n",
    "print(df)\n"
   ]
  },
  {
   "cell_type": "markdown",
   "id": "1f840fa4-6ea0-4ba6-b148-efaf57992328",
   "metadata": {},
   "source": [
    "2. Load the\n",
    "passenger counts from AirPassengers.csv into a NumPy array"
   ]
  },
  {
   "cell_type": "code",
   "execution_count": 6,
   "id": "da19b985-af27-4b7d-ab60-0910ee5a214b",
   "metadata": {},
   "outputs": [
    {
     "name": "stdout",
     "output_type": "stream",
     "text": [
      "     Month  Passengers\n",
      "0  1949-01         112\n",
      "1  1949-02         118\n",
      "2  1949-03         132\n",
      "3  1949-04         129\n",
      "4  1949-05         121\n"
     ]
    }
   ],
   "source": [
    "print(df.head())"
   ]
  },
  {
   "cell_type": "code",
   "execution_count": 7,
   "id": "04f5c7c4-21f5-42d2-8ddd-ae4e1e8c7aaa",
   "metadata": {},
   "outputs": [
    {
     "name": "stdout",
     "output_type": "stream",
     "text": [
      "       Month  Passengers\n",
      "139  1960-08         606\n",
      "140  1960-09         508\n",
      "141  1960-10         461\n",
      "142  1960-11         390\n",
      "143  1960-12         432\n"
     ]
    }
   ],
   "source": [
    "print(df.tail())"
   ]
  },
  {
   "cell_type": "markdown",
   "id": "f700b095-0d77-4be3-b271-a14e3885313f",
   "metadata": {},
   "source": [
    "3. The total\n",
    "number of passengers across all months."
   ]
  },
  {
   "cell_type": "code",
   "execution_count": 20,
   "id": "53da5f9e-8b04-4459-957c-cdf70d4ef532",
   "metadata": {},
   "outputs": [
    {
     "name": "stdout",
     "output_type": "stream",
     "text": [
      "Total passengers: 40363\n",
      "       Month  Passengers\n",
      "90   1956-07         413\n",
      "91   1956-08         405\n",
      "101  1957-06         422\n",
      "102  1957-07         465\n",
      "103  1957-08         467\n",
      "104  1957-09         404\n",
      "113  1958-06         435\n",
      "114  1958-07         491\n",
      "115  1958-08         505\n",
      "116  1958-09         404\n",
      "122  1959-03         406\n",
      "124  1959-05         420\n",
      "125  1959-06         472\n",
      "126  1959-07         548\n",
      "127  1959-08         559\n",
      "128  1959-09         463\n",
      "129  1959-10         407\n",
      "131  1959-12         405\n",
      "132  1960-01         417\n",
      "134  1960-03         419\n",
      "135  1960-04         461\n",
      "136  1960-05         472\n",
      "137  1960-06         535\n",
      "138  1960-07         622\n",
      "139  1960-08         606\n",
      "140  1960-09         508\n",
      "141  1960-10         461\n",
      "143  1960-12         432\n",
      "28\n"
     ]
    }
   ],
   "source": [
    "passenger_counts = df['Passengers'].values\n",
    "total_passengers = np.sum(passenger_counts)\n",
    "print(\"Total passengers:\", total_passengers)\n",
    "high_passengers = df[df['Passengers']>400]\n",
    "print(high_passengers)\n",
    "print(len(high_passengers))"
   ]
  },
  {
   "cell_type": "markdown",
   "id": "a8e8e47d-9fe6-438e-965c-7298aaa4c4b0",
   "metadata": {},
   "source": [
    "4. The average monthly passengers"
   ]
  },
  {
   "cell_type": "code",
   "execution_count": 9,
   "id": "e9113611-987b-49e9-b153-cbc215a0d8bc",
   "metadata": {},
   "outputs": [
    {
     "name": "stdout",
     "output_type": "stream",
     "text": [
      "Average Monthly Passengers= 280\n"
     ]
    }
   ],
   "source": [
    "average_monthly_passengers=np.mean(passenger_counts)\n",
    "print(\"Average Monthly Passengers=\",round(average_monthly_passengers))"
   ]
  },
  {
   "cell_type": "markdown",
   "id": "1baaded7-4d3e-4004-b2d4-1b5e96cc7b5e",
   "metadata": {},
   "source": [
    "5. The square\n",
    "root of passenger counts for the first 12 months (January–December 1949) to\n",
    "estimate variability."
   ]
  },
  {
   "cell_type": "code",
   "execution_count": 10,
   "id": "cd5bbe45-0262-407f-9f6f-c2734c1b64e1",
   "metadata": {},
   "outputs": [
    {
     "name": "stdout",
     "output_type": "stream",
     "text": [
      "Passenger counts (1949): [10.58300524 10.86278049 11.48912529 11.35781669 11.         11.61895004\n",
      " 12.16552506 12.16552506 11.66190379 10.90871211 10.19803903 10.86278049]\n"
     ]
    }
   ],
   "source": [
    "sqrt_1949 = np.sqrt(passenger_counts[:12])\n",
    "print(\"Passenger counts (1949):\", sqrt_1949)"
   ]
  },
  {
   "cell_type": "markdown",
   "id": "ecac5528-fc23-4ef5-b53f-0f8f8ca22b52",
   "metadata": {},
   "source": [
    "6. Compare Passenger Counts Across Years"
   ]
  },
  {
   "cell_type": "code",
   "execution_count": 11,
   "id": "0782bd12-9990-46ad-9748-4dfdc5a4e76d",
   "metadata": {},
   "outputs": [
    {
     "name": "stdout",
     "output_type": "stream",
     "text": [
      "Total passengers in 1950: 1676\n",
      "Total passengers in 1951: 2042\n",
      "Average passengers in 1950: 139.66666666666666\n",
      "Average passengers in 1951: 170.16666666666666\n",
      "Difference in average (1951 - 1950): 30.5\n"
     ]
    }
   ],
   "source": [
    "passengers_1950 = passenger_counts[12:24] \n",
    "passengers_1951 = passenger_counts[24:36] \n",
    "\n",
    "total_1950 = np.sum(passengers_1950)\n",
    "total_1951 = np.sum(passengers_1951)\n",
    "\n",
    "\n",
    "avg_1950 = np.mean(passengers_1950)\n",
    "avg_1951 = np.mean(passengers_1951)\n",
    "\n",
    "print(\"Total passengers in 1950:\", total_1950)\n",
    "print(\"Total passengers in 1951:\", total_1951)\n",
    "print(\"Average passengers in 1950:\", avg_1950)\n",
    "print(\"Average passengers in 1951:\", avg_1951)\n",
    "\n",
    "print(\"Difference in average (1951 - 1950):\", avg_1951 - avg_1950)"
   ]
  },
  {
   "cell_type": "markdown",
   "id": "45ababe5-f2f6-4544-aa66-5fe37f86ec15",
   "metadata": {},
   "source": [
    "7. Extract passenger counts for 1950 and 1951 (12 months each) using slicing. Create two NumPy arrays and calculate:"
   ]
  },
  {
   "cell_type": "code",
   "execution_count": 12,
   "id": "10b28139-3cb8-413d-9aa8-79173b80c922",
   "metadata": {},
   "outputs": [
    {
     "name": "stdout",
     "output_type": "stream",
     "text": [
      "Total passengers in 1950: 1676\n",
      "Total passengers in 1951: 2042\n"
     ]
    }
   ],
   "source": [
    "passengers_1950 = passenger_counts[12:24]\n",
    "passengers_1951 = passenger_counts[24:36]\n",
    "\n",
    "total_1950 = np.sum(passengers_1950)\n",
    "total_1951 = np.sum(passengers_1951)\n",
    "\n",
    "print(\"Total passengers in 1950:\", total_1950)\n",
    "print(\"Total passengers in 1951:\", total_1951)"
   ]
  },
  {
   "cell_type": "markdown",
   "id": "4c2c22db-8d72-4918-94b1-2460f9ac4fcd",
   "metadata": {},
   "source": [
    "8. The total passengers for each year."
   ]
  },
  {
   "cell_type": "code",
   "execution_count": 13,
   "id": "d1aaca58-7ebc-42ce-9f95-41da9af831a2",
   "metadata": {},
   "outputs": [
    {
     "name": "stdout",
     "output_type": "stream",
     "text": [
      "Total passengers in 1950: 1676\n",
      "Total passengers in 1951: 2042\n"
     ]
    }
   ],
   "source": [
    "total_1950 = np.sum(passengers_1950)\n",
    "total_1951 = np.sum(passengers_1951)\n",
    "print(\"Total passengers in 1950:\", total_1950)\n",
    "print(\"Total passengers in 1951:\", total_1951)"
   ]
  },
  {
   "cell_type": "markdown",
   "id": "355ea4dd-dcf2-4c32-a9fe-4565c5da536c",
   "metadata": {},
   "source": [
    "9. The difference\n",
    "in average monthly passengers between 1951 and 1950"
   ]
  },
  {
   "cell_type": "code",
   "execution_count": 14,
   "id": "5f59dd5e-22d6-4628-bb2c-4a2c77006b35",
   "metadata": {},
   "outputs": [
    {
     "name": "stdout",
     "output_type": "stream",
     "text": [
      "Avg monthly passenger difference (1951 - 1950): 30.5\n"
     ]
    }
   ],
   "source": [
    "avg_diff = np.mean(passengers_1951) - np.mean(passengers_1950)\n",
    "print(\"Avg monthly passenger difference (1951 - 1950):\", avg_diff)"
   ]
  }
 ],
 "metadata": {
  "kernelspec": {
   "display_name": "Python 3 (ipykernel)",
   "language": "python",
   "name": "python3"
  },
  "language_info": {
   "codemirror_mode": {
    "name": "ipython",
    "version": 3
   },
   "file_extension": ".py",
   "mimetype": "text/x-python",
   "name": "python",
   "nbconvert_exporter": "python",
   "pygments_lexer": "ipython3",
   "version": "3.12.7"
  }
 },
 "nbformat": 4,
 "nbformat_minor": 5
}
