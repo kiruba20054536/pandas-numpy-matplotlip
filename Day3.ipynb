{
 "cells": [
  {
   "cell_type": "code",
   "execution_count": 2,
   "id": "70916a0e-23f7-4f78-b820-af3103227880",
   "metadata": {},
   "outputs": [],
   "source": [
    "import pandas as pd\n",
    "import numpy as np\n"
   ]
  },
  {
   "cell_type": "code",
   "execution_count": 3,
   "id": "8b588b79-c2a0-40af-a6d5-1ff99fcdfb53",
   "metadata": {},
   "outputs": [
    {
     "name": "stdout",
     "output_type": "stream",
     "text": [
      "2.2.2\n"
     ]
    }
   ],
   "source": [
    "print(pd.__version__)"
   ]
  },
  {
   "cell_type": "code",
   "execution_count": 4,
   "id": "07e18641-b47b-435c-828f-0bdba24d1bd9",
   "metadata": {},
   "outputs": [
    {
     "name": "stdout",
     "output_type": "stream",
     "text": [
      "<class 'numpy.ndarray'>\n"
     ]
    }
   ],
   "source": [
    "months = ['jan','feb','mar']\n",
    "passengers =  np.array([122,118,132])\n",
    "print(type(passengers))"
   ]
  },
  {
   "cell_type": "code",
   "execution_count": 5,
   "id": "04f9248e-17c0-450e-acc4-175ff2f345db",
   "metadata": {},
   "outputs": [
    {
     "name": "stdout",
     "output_type": "stream",
     "text": [
      "jan    122\n",
      "feb    118\n",
      "mar    132\n",
      "dtype: int32\n"
     ]
    }
   ],
   "source": [
    "series =pd.Series(passengers, index=months) # USE CAPITAL\"S\" FOR \"SERIES\" ATTRIBUITE\n",
    "print(series)"
   ]
  },
  {
   "cell_type": "code",
   "execution_count": 6,
   "id": "23bd2a4f-000b-44d2-97cc-74b55eaf463e",
   "metadata": {},
   "outputs": [
    {
     "name": "stdout",
     "output_type": "stream",
     "text": [
      "122\n"
     ]
    }
   ],
   "source": [
    "print(series['jan'])"
   ]
  },
  {
   "cell_type": "code",
   "execution_count": 7,
   "id": "707144f7-75d9-45b9-91b4-02290057db65",
   "metadata": {},
   "outputs": [
    {
     "name": "stdout",
     "output_type": "stream",
     "text": [
      "jan    112\n",
      "mar    126\n",
      "dtype: int64\n",
      "jan    112\n",
      "feb    118\n",
      "dtype: int64\n"
     ]
    }
   ],
   "source": [
    "series_1949 = pd.Series([112,118],index=['jan','feb'])\n",
    "series_1950 = pd.Series([112,126],index=['jan','mar'])\n",
    "print(series_1950)\n",
    "print(series_1949)"
   ]
  },
  {
   "cell_type": "code",
   "execution_count": 8,
   "id": "9728b6f7-a0c5-43bd-afc6-f6794d4ca514",
   "metadata": {},
   "outputs": [
    {
     "name": "stdout",
     "output_type": "stream",
     "text": [
      "feb      NaN\n",
      "jan    224.0\n",
      "mar      NaN\n",
      "dtype: float64\n"
     ]
    }
   ],
   "source": [
    "total = series_1949+series_1950\n",
    "print(total)"
   ]
  },
  {
   "cell_type": "markdown",
   "id": "4ec96c3f-80ed-494b-817b-4ea139b95932",
   "metadata": {},
   "source": [
    "2D Dimensional Data frame"
   ]
  },
  {
   "cell_type": "code",
   "execution_count": 9,
   "id": "a59bddd4-b705-4f42-b0cc-4311960a53d0",
   "metadata": {},
   "outputs": [
    {
     "name": "stdout",
     "output_type": "stream",
     "text": [
      "       Month  Passengers\n",
      "0    1949-01         112\n",
      "1    1949-02         118\n",
      "2    1949-03         132\n",
      "3    1949-04         129\n",
      "4    1949-05         121\n",
      "..       ...         ...\n",
      "139  1960-08         606\n",
      "140  1960-09         508\n",
      "141  1960-10         461\n",
      "142  1960-11         390\n",
      "143  1960-12         432\n",
      "\n",
      "[144 rows x 2 columns]\n"
     ]
    }
   ],
   "source": [
    "df = pd.read_csv(r'C:\\Users\\mccmrfcs\\Downloads\\AirPassengers.csv')\n",
    "\n",
    "print(df)"
   ]
  },
  {
   "cell_type": "code",
   "execution_count": 10,
   "id": "44e4555b-7781-4b4c-a8cd-698686d8899d",
   "metadata": {},
   "outputs": [
    {
     "name": "stdout",
     "output_type": "stream",
     "text": [
      "     Month  Passengers\n",
      "0  1949-01         112\n",
      "1  1949-02         118\n",
      "2  1949-03         132\n",
      "3  1949-04         129\n",
      "4  1949-05         121\n",
      "       Month  Passengers\n",
      "139  1960-08         606\n",
      "140  1960-09         508\n",
      "141  1960-10         461\n",
      "142  1960-11         390\n",
      "143  1960-12         432\n"
     ]
    }
   ],
   "source": [
    "print(df.head())\n",
    "print(df.tail())"
   ]
  },
  {
   "cell_type": "code",
   "execution_count": 11,
   "id": "b9a5ff3b-1787-40a4-94f3-f5ca8574a08e",
   "metadata": {},
   "outputs": [
    {
     "name": "stdout",
     "output_type": "stream",
     "text": [
      "          W         X         Y         Z\n",
      "A  0.621011 -0.389656 -0.827312  2.351165\n",
      "B  1.182485  0.001429 -0.205682 -0.364082\n",
      "C -0.548429 -0.925329 -0.142679 -0.631057\n",
      "D  0.426529  0.142472  0.373703 -0.588073\n",
      "E -1.789936 -0.292063  0.353138  0.206805\n"
     ]
    }
   ],
   "source": [
    "df = pd.DataFrame(np.random.randn(5,4),index='A B C D E'.split(),columns='W X Y Z'.split())\n",
    "print(df)"
   ]
  },
  {
   "cell_type": "code",
   "execution_count": 12,
   "id": "08b27cb8-3481-4ae3-8deb-5d71b50875f9",
   "metadata": {},
   "outputs": [
    {
     "data": {
      "text/html": [
       "<div>\n",
       "<style scoped>\n",
       "    .dataframe tbody tr th:only-of-type {\n",
       "        vertical-align: middle;\n",
       "    }\n",
       "\n",
       "    .dataframe tbody tr th {\n",
       "        vertical-align: top;\n",
       "    }\n",
       "\n",
       "    .dataframe thead th {\n",
       "        text-align: right;\n",
       "    }\n",
       "</style>\n",
       "<table border=\"1\" class=\"dataframe\">\n",
       "  <thead>\n",
       "    <tr style=\"text-align: right;\">\n",
       "      <th></th>\n",
       "      <th>X</th>\n",
       "      <th>Y</th>\n",
       "      <th>Z</th>\n",
       "    </tr>\n",
       "  </thead>\n",
       "  <tbody>\n",
       "    <tr>\n",
       "      <th>A</th>\n",
       "      <td>-0.389656</td>\n",
       "      <td>-0.827312</td>\n",
       "      <td>2.351165</td>\n",
       "    </tr>\n",
       "    <tr>\n",
       "      <th>B</th>\n",
       "      <td>0.001429</td>\n",
       "      <td>-0.205682</td>\n",
       "      <td>-0.364082</td>\n",
       "    </tr>\n",
       "    <tr>\n",
       "      <th>C</th>\n",
       "      <td>-0.925329</td>\n",
       "      <td>-0.142679</td>\n",
       "      <td>-0.631057</td>\n",
       "    </tr>\n",
       "    <tr>\n",
       "      <th>D</th>\n",
       "      <td>0.142472</td>\n",
       "      <td>0.373703</td>\n",
       "      <td>-0.588073</td>\n",
       "    </tr>\n",
       "    <tr>\n",
       "      <th>E</th>\n",
       "      <td>-0.292063</td>\n",
       "      <td>0.353138</td>\n",
       "      <td>0.206805</td>\n",
       "    </tr>\n",
       "  </tbody>\n",
       "</table>\n",
       "</div>"
      ],
      "text/plain": [
       "          X         Y         Z\n",
       "A -0.389656 -0.827312  2.351165\n",
       "B  0.001429 -0.205682 -0.364082\n",
       "C -0.925329 -0.142679 -0.631057\n",
       "D  0.142472  0.373703 -0.588073\n",
       "E -0.292063  0.353138  0.206805"
      ]
     },
     "execution_count": 12,
     "metadata": {},
     "output_type": "execute_result"
    }
   ],
   "source": [
    "df.drop('W',axis=1)  #TO DROP A COLUMN USE AXIS=1"
   ]
  },
  {
   "cell_type": "code",
   "execution_count": 13,
   "id": "2b1dbe58-ee7f-409f-ad22-24f95c588966",
   "metadata": {},
   "outputs": [
    {
     "data": {
      "text/html": [
       "<div>\n",
       "<style scoped>\n",
       "    .dataframe tbody tr th:only-of-type {\n",
       "        vertical-align: middle;\n",
       "    }\n",
       "\n",
       "    .dataframe tbody tr th {\n",
       "        vertical-align: top;\n",
       "    }\n",
       "\n",
       "    .dataframe thead th {\n",
       "        text-align: right;\n",
       "    }\n",
       "</style>\n",
       "<table border=\"1\" class=\"dataframe\">\n",
       "  <thead>\n",
       "    <tr style=\"text-align: right;\">\n",
       "      <th></th>\n",
       "      <th>W</th>\n",
       "      <th>X</th>\n",
       "      <th>Y</th>\n",
       "      <th>Z</th>\n",
       "    </tr>\n",
       "  </thead>\n",
       "  <tbody>\n",
       "    <tr>\n",
       "      <th>B</th>\n",
       "      <td>1.182485</td>\n",
       "      <td>0.001429</td>\n",
       "      <td>-0.205682</td>\n",
       "      <td>-0.364082</td>\n",
       "    </tr>\n",
       "    <tr>\n",
       "      <th>C</th>\n",
       "      <td>-0.548429</td>\n",
       "      <td>-0.925329</td>\n",
       "      <td>-0.142679</td>\n",
       "      <td>-0.631057</td>\n",
       "    </tr>\n",
       "    <tr>\n",
       "      <th>D</th>\n",
       "      <td>0.426529</td>\n",
       "      <td>0.142472</td>\n",
       "      <td>0.373703</td>\n",
       "      <td>-0.588073</td>\n",
       "    </tr>\n",
       "    <tr>\n",
       "      <th>E</th>\n",
       "      <td>-1.789936</td>\n",
       "      <td>-0.292063</td>\n",
       "      <td>0.353138</td>\n",
       "      <td>0.206805</td>\n",
       "    </tr>\n",
       "  </tbody>\n",
       "</table>\n",
       "</div>"
      ],
      "text/plain": [
       "          W         X         Y         Z\n",
       "B  1.182485  0.001429 -0.205682 -0.364082\n",
       "C -0.548429 -0.925329 -0.142679 -0.631057\n",
       "D  0.426529  0.142472  0.373703 -0.588073\n",
       "E -1.789936 -0.292063  0.353138  0.206805"
      ]
     },
     "execution_count": 13,
     "metadata": {},
     "output_type": "execute_result"
    }
   ],
   "source": [
    "df.drop('A',axis=0) #TO DROP A ROW USE AXIS=0"
   ]
  },
  {
   "cell_type": "code",
   "execution_count": 14,
   "id": "720ee78d-175a-4752-bfb6-7ec20e0fb7ad",
   "metadata": {},
   "outputs": [
    {
     "name": "stdout",
     "output_type": "stream",
     "text": [
      "          W         X         Y         Z       Y+Z\n",
      "A  0.621011 -0.389656 -0.827312  2.351165  0.231355\n",
      "B  1.182485  0.001429 -0.205682 -0.364082  1.183914\n",
      "C -0.548429 -0.925329 -0.142679 -0.631057 -1.473758\n",
      "D  0.426529  0.142472  0.373703 -0.588073  0.569001\n",
      "E -1.789936 -0.292063  0.353138  0.206805 -2.081999\n"
     ]
    }
   ],
   "source": [
    "df['Y+Z']=df['W']+df['X']# TO CREATE A NEW COLUMN WITH THE ADDITION OF TWO COLUMNS\n",
    "print(df)"
   ]
  },
  {
   "cell_type": "code",
   "execution_count": 16,
   "id": "bab515f9-65c8-41f8-936b-fd3670de258f",
   "metadata": {},
   "outputs": [
    {
     "data": {
      "text/html": [
       "<div>\n",
       "<style scoped>\n",
       "    .dataframe tbody tr th:only-of-type {\n",
       "        vertical-align: middle;\n",
       "    }\n",
       "\n",
       "    .dataframe tbody tr th {\n",
       "        vertical-align: top;\n",
       "    }\n",
       "\n",
       "    .dataframe thead th {\n",
       "        text-align: right;\n",
       "    }\n",
       "</style>\n",
       "<table border=\"1\" class=\"dataframe\">\n",
       "  <thead>\n",
       "    <tr style=\"text-align: right;\">\n",
       "      <th></th>\n",
       "      <th>W</th>\n",
       "      <th>X</th>\n",
       "      <th>Y</th>\n",
       "      <th>Z</th>\n",
       "      <th>Y+Z</th>\n",
       "    </tr>\n",
       "  </thead>\n",
       "  <tbody>\n",
       "    <tr>\n",
       "      <th>count</th>\n",
       "      <td>5.000000</td>\n",
       "      <td>5.000000</td>\n",
       "      <td>5.000000</td>\n",
       "      <td>5.000000</td>\n",
       "      <td>5.000000</td>\n",
       "    </tr>\n",
       "    <tr>\n",
       "      <th>mean</th>\n",
       "      <td>-0.021668</td>\n",
       "      <td>-0.292629</td>\n",
       "      <td>-0.089766</td>\n",
       "      <td>0.194952</td>\n",
       "      <td>-0.314298</td>\n",
       "    </tr>\n",
       "    <tr>\n",
       "      <th>std</th>\n",
       "      <td>1.169204</td>\n",
       "      <td>0.413977</td>\n",
       "      <td>0.492742</td>\n",
       "      <td>1.250733</td>\n",
       "      <td>1.395682</td>\n",
       "    </tr>\n",
       "    <tr>\n",
       "      <th>min</th>\n",
       "      <td>-1.789936</td>\n",
       "      <td>-0.925329</td>\n",
       "      <td>-0.827312</td>\n",
       "      <td>-0.631057</td>\n",
       "      <td>-2.081999</td>\n",
       "    </tr>\n",
       "    <tr>\n",
       "      <th>25%</th>\n",
       "      <td>-0.548429</td>\n",
       "      <td>-0.389656</td>\n",
       "      <td>-0.205682</td>\n",
       "      <td>-0.588073</td>\n",
       "      <td>-1.473758</td>\n",
       "    </tr>\n",
       "    <tr>\n",
       "      <th>50%</th>\n",
       "      <td>0.426529</td>\n",
       "      <td>-0.292063</td>\n",
       "      <td>-0.142679</td>\n",
       "      <td>-0.364082</td>\n",
       "      <td>0.231355</td>\n",
       "    </tr>\n",
       "    <tr>\n",
       "      <th>75%</th>\n",
       "      <td>0.621011</td>\n",
       "      <td>0.001429</td>\n",
       "      <td>0.353138</td>\n",
       "      <td>0.206805</td>\n",
       "      <td>0.569001</td>\n",
       "    </tr>\n",
       "    <tr>\n",
       "      <th>max</th>\n",
       "      <td>1.182485</td>\n",
       "      <td>0.142472</td>\n",
       "      <td>0.373703</td>\n",
       "      <td>2.351165</td>\n",
       "      <td>1.183914</td>\n",
       "    </tr>\n",
       "  </tbody>\n",
       "</table>\n",
       "</div>"
      ],
      "text/plain": [
       "              W         X         Y         Z       Y+Z\n",
       "count  5.000000  5.000000  5.000000  5.000000  5.000000\n",
       "mean  -0.021668 -0.292629 -0.089766  0.194952 -0.314298\n",
       "std    1.169204  0.413977  0.492742  1.250733  1.395682\n",
       "min   -1.789936 -0.925329 -0.827312 -0.631057 -2.081999\n",
       "25%   -0.548429 -0.389656 -0.205682 -0.588073 -1.473758\n",
       "50%    0.426529 -0.292063 -0.142679 -0.364082  0.231355\n",
       "75%    0.621011  0.001429  0.353138  0.206805  0.569001\n",
       "max    1.182485  0.142472  0.373703  2.351165  1.183914"
      ]
     },
     "execution_count": 16,
     "metadata": {},
     "output_type": "execute_result"
    }
   ],
   "source": [
    "df.describe()"
   ]
  },
  {
   "cell_type": "code",
   "execution_count": 17,
   "id": "312fd354-113c-43fc-a8d4-424e142835b4",
   "metadata": {},
   "outputs": [
    {
     "name": "stdout",
     "output_type": "stream",
     "text": [
      "<class 'pandas.core.frame.DataFrame'>\n",
      "Index: 5 entries, A to E\n",
      "Data columns (total 5 columns):\n",
      " #   Column  Non-Null Count  Dtype  \n",
      "---  ------  --------------  -----  \n",
      " 0   W       5 non-null      float64\n",
      " 1   X       5 non-null      float64\n",
      " 2   Y       5 non-null      float64\n",
      " 3   Z       5 non-null      float64\n",
      " 4   Y+Z     5 non-null      float64\n",
      "dtypes: float64(5)\n",
      "memory usage: 412.0+ bytes\n"
     ]
    }
   ],
   "source": [
    "df.info()"
   ]
  },
  {
   "cell_type": "code",
   "execution_count": 19,
   "id": "ab4b4401-c4f9-497c-89d1-e1914b15733a",
   "metadata": {},
   "outputs": [
    {
     "data": {
      "text/plain": [
       "W      float64\n",
       "X      float64\n",
       "Y      float64\n",
       "Z      float64\n",
       "Y+Z    float64\n",
       "dtype: object"
      ]
     },
     "execution_count": 19,
     "metadata": {},
     "output_type": "execute_result"
    }
   ],
   "source": [
    "df.dtypes"
   ]
  },
  {
   "cell_type": "code",
   "execution_count": null,
   "id": "fc3dcde4-e6b1-4aa1-a9d2-ff4dbd3ccf92",
   "metadata": {},
   "outputs": [],
   "source": []
  }
 ],
 "metadata": {
  "kernelspec": {
   "display_name": "Python 3 (ipykernel)",
   "language": "python",
   "name": "python3"
  },
  "language_info": {
   "codemirror_mode": {
    "name": "ipython",
    "version": 3
   },
   "file_extension": ".py",
   "mimetype": "text/x-python",
   "name": "python",
   "nbconvert_exporter": "python",
   "pygments_lexer": "ipython3",
   "version": "3.12.7"
  }
 },
 "nbformat": 4,
 "nbformat_minor": 5
}
