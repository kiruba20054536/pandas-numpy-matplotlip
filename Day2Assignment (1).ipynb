{
 "cells": [
  {
   "cell_type": "markdown",
   "id": "25f08127-238e-4e8e-ad9a-92ff29f2aaf6",
   "metadata": {},
   "source": [
    "DAY 2 ASSIGNMENT"
   ]
  },
  {
   "cell_type": "markdown",
   "id": "052c7d8d-c59c-42e2-9f86-aa5bb46f157b",
   "metadata": {},
   "source": [
    "PART-A"
   ]
  },
  {
   "cell_type": "code",
   "execution_count": 1,
   "id": "186066be-1b88-4275-9da2-4201bde5b61e",
   "metadata": {},
   "outputs": [],
   "source": [
    "import numpy as np"
   ]
  },
  {
   "cell_type": "markdown",
   "id": "accbd958-6bb3-466f-bcdc-0018b15324d5",
   "metadata": {},
   "source": [
    "1. Generate a 1D NumPy array containing numbers from 0 to 9."
   ]
  },
  {
   "cell_type": "code",
   "execution_count": 4,
   "id": "10699923-55e3-4ab6-8540-55f407d28e82",
   "metadata": {},
   "outputs": [
    {
     "name": "stdout",
     "output_type": "stream",
     "text": [
      "[0 1 2 3 4 5 6 7 8 9]\n"
     ]
    }
   ],
   "source": [
    "arr = np.arange(10)\n",
    "print(arr)"
   ]
  },
  {
   "cell_type": "markdown",
   "id": "dc110253-128c-4521-9d5b-b0089a16082d",
   "metadata": {},
   "source": [
    "2. Reshape a 1D array into a 2D array"
   ]
  },
  {
   "cell_type": "code",
   "execution_count": 20,
   "id": "3c1e3564-4bab-4c27-9e8d-8c1a1fc101bb",
   "metadata": {},
   "outputs": [
    {
     "name": "stdout",
     "output_type": "stream",
     "text": [
      "[ 0  1  2  3  4  5  6  7  8  9 10 11 12 13 14 15 16 17 18 19]\n",
      "[[ 0  1  2  3  4  5  6  7  8  9]\n",
      " [10 11 12 13 14 15 16 17 18 19]]\n"
     ]
    }
   ],
   "source": [
    "arr_1 = np.arange(20)#1DIMENSIONAL ARRAY\n",
    "print(arr_1) \n",
    "\n",
    "arr_2 = arr_1.reshape(2,10) #RESHAPE INTO 2 DIMENSIONAL ARRAY\n",
    "print(arr_2)"
   ]
  },
  {
   "cell_type": "markdown",
   "id": "72602c4e-b45e-439b-a6d3-6003cdd05154",
   "metadata": {},
   "source": [
    "3. Perform element-wise addition and multiplication of two matrices - Compute the dot\n",
    "product of two compatible matrices- Transpose a given matrix and verify the result."
   ]
  },
  {
   "cell_type": "code",
   "execution_count": 28,
   "id": "00cd222c-241c-4a88-8816-48e7b6d5b12a",
   "metadata": {},
   "outputs": [
    {
     "name": "stdout",
     "output_type": "stream",
     "text": [
      "[[ 6  8  7]\n",
      " [12 14 13]\n",
      " [13 11 11]]\n",
      "[[ 39  33  24]\n",
      " [ 96  87  63]\n",
      " [153 141 102]]\n",
      "[[1 4 7]\n",
      " [2 5 8]\n",
      " [3 6 9]]\n"
     ]
    }
   ],
   "source": [
    "A = np.array([[1,2,3],[4,5,6],[7,8,9]])\n",
    "B = np.array([[5,6,4],[8,9,7],[6,3,2]])\n",
    "print(A+B)\n",
    "print(np.dot(A,B))\n",
    "print(np.transpose(A))"
   ]
  },
  {
   "cell_type": "markdown",
   "id": "6aab6012-6195-4ff7-9a96-b7b04aab3732",
   "metadata": {},
   "source": [
    "4. Extract elements that satisfy a certain condition (e.g., elements greater than 5) -\n",
    "Replace all negative values in an array with zero."
   ]
  },
  {
   "cell_type": "code",
   "execution_count": 30,
   "id": "c3cfde46-de61-4d1d-a326-b29c9b2ee5d2",
   "metadata": {},
   "outputs": [
    {
     "name": "stdout",
     "output_type": "stream",
     "text": [
      "Elements greater than 5: [7 9]\n"
     ]
    }
   ],
   "source": [
    "arr_3 = np.array([1, 3, 5, 7, 9])\n",
    "\n",
    "# Extract elements greater than 5\n",
    "greater_than_5 = arr[arr > 5]\n",
    "\n",
    "print(\"Elements greater than 5:\", greater_than_5)\n"
   ]
  },
  {
   "cell_type": "code",
   "execution_count": 34,
   "id": "fdeae0b2-8ed4-4750-bea0-945736adf4a3",
   "metadata": {},
   "outputs": [
    {
     "name": "stdout",
     "output_type": "stream",
     "text": [
      "[1 0 5 0 9]\n"
     ]
    }
   ],
   "source": [
    "arr_4 = np.array([1, -3, 5, -7, 9])\n",
    "arr_4[arr_4<0]=0\n",
    "print(arr_4)"
   ]
  },
  {
   "cell_type": "markdown",
   "id": "3945bdd6-1c67-47e1-aedc-dbfc1ef6605e",
   "metadata": {},
   "source": [
    "5. Reverse the order of elements in a 1D array"
   ]
  },
  {
   "cell_type": "code",
   "execution_count": 40,
   "id": "4f8d1258-3df0-4b6c-ad8a-e8957d392b26",
   "metadata": {},
   "outputs": [
    {
     "name": "stdout",
     "output_type": "stream",
     "text": [
      "Reversed array: [5 4 3 2 1]\n"
     ]
    }
   ],
   "source": [
    "arr = np.array([1, 2, 3, 4, 5])\n",
    "reversed_arr = arr[::-1]\n",
    "print(\"Reversed array:\", reversed_arr)\n"
   ]
  },
  {
   "cell_type": "markdown",
   "id": "4c9d986b-989e-44e5-a447-5d280c33194e",
   "metadata": {},
   "source": [
    "6. Compute the\n",
    "mean, median, and standard deviation"
   ]
  },
  {
   "cell_type": "code",
   "execution_count": 41,
   "id": "4dc2db59-f8bf-446c-9416-dfebad1758ee",
   "metadata": {},
   "outputs": [
    {
     "name": "stdout",
     "output_type": "stream",
     "text": [
      "3.0\n",
      "3.0\n",
      "1.4142135623730951\n"
     ]
    }
   ],
   "source": [
    "arr = np.array([1, 2, 3, 4, 5])\n",
    "print(np.mean(arr))\n",
    "print(np.median(arr))\n",
    "print(np.std(arr))"
   ]
  },
  {
   "cell_type": "markdown",
   "id": "30d03925-0f1d-4676-bb56-03ca80b53b8c",
   "metadata": {},
   "source": [
    "7. Save a NumPy array to a .npy file and load it back."
   ]
  },
  {
   "cell_type": "code",
   "execution_count": 45,
   "id": "480fc02e-d6c0-4cf5-ae88-166771cbd69d",
   "metadata": {},
   "outputs": [
    {
     "name": "stdout",
     "output_type": "stream",
     "text": [
      "Loaded Array: [[1 2 3]\n",
      " [4 5 6]]\n"
     ]
    }
   ],
   "source": [
    "array = np.array([[1, 2, 3], [4, 5, 6]])\n",
    "np.save('my_array.npy', array)\n",
    "\n",
    "loaded_array = np.load('my_array.npy')\n",
    "\n",
    "print(\"Loaded Array:\",loaded_array)\n"
   ]
  },
  {
   "cell_type": "markdown",
   "id": "0f251b68-e3ef-433d-aaf1-2f6039f21ac3",
   "metadata": {},
   "source": [
    "8. Export a 2D array to a CSV file using np.savetxt and read it\n",
    "using np.loadtxt"
   ]
  },
  {
   "cell_type": "code",
   "execution_count": 52,
   "id": "3f8395d2-febb-4311-8100-d43d6c596da0",
   "metadata": {},
   "outputs": [
    {
     "name": "stdout",
     "output_type": "stream",
     "text": [
      "[[10. 20. 30.]\n",
      " [40. 50. 60.]]\n"
     ]
    }
   ],
   "source": [
    "array = np.array([[10, 20, 30], [40, 50, 60]])\n",
    "np.savetxt('my_array.csv', array, delimiter=',', fmt='%d')\n",
    "loaded_array = np.loadtxt('my_array.csv', delimiter=',')\n",
    "print(loaded_array)"
   ]
  },
  {
   "cell_type": "markdown",
   "id": "6adfa646-d653-42cd-aba6-aec3c0207776",
   "metadata": {},
   "source": [
    "9. Merge two arrays horizontally."
   ]
  },
  {
   "cell_type": "code",
   "execution_count": 49,
   "id": "c8a51fbe-acbf-409c-9b78-136ffcddabbb",
   "metadata": {},
   "outputs": [
    {
     "name": "stdout",
     "output_type": "stream",
     "text": [
      "[[1 2 5 6]\n",
      " [3 4 7 8]]\n"
     ]
    }
   ],
   "source": [
    "a = np.array([[1, 2], [3, 4]])\n",
    "b = np.array([[5, 6], [7, 8]])\n",
    "\n",
    "c = np.hstack((a, b))\n",
    "\n",
    "print(c)\n"
   ]
  }
 ],
 "metadata": {
  "kernelspec": {
   "display_name": "Python 3 (ipykernel)",
   "language": "python",
   "name": "python3"
  },
  "language_info": {
   "codemirror_mode": {
    "name": "ipython",
    "version": 3
   },
   "file_extension": ".py",
   "mimetype": "text/x-python",
   "name": "python",
   "nbconvert_exporter": "python",
   "pygments_lexer": "ipython3",
   "version": "3.12.7"
  }
 },
 "nbformat": 4,
 "nbformat_minor": 5
}
