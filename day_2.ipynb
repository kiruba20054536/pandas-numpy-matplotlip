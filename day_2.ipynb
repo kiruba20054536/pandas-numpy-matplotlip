{
 "cells": [
  {
   "cell_type": "code",
   "execution_count": 11,
   "id": "572d7b88-df72-4616-be8e-f8ca4642aa52",
   "metadata": {},
   "outputs": [],
   "source": [
    "import numpy as np"
   ]
  },
  {
   "cell_type": "code",
   "execution_count": 12,
   "id": "d7c2d361-5cb6-4927-956c-9e364cfd9f6e",
   "metadata": {},
   "outputs": [
    {
     "name": "stdout",
     "output_type": "stream",
     "text": [
      "[[2 5 8]\n",
      " [8 6 7]]\n",
      "[[ 4  7 10]\n",
      " [10  8  9]]\n",
      "[[1.41421356 2.23606798 2.82842712]\n",
      " [2.82842712 2.44948974 2.64575131]]\n",
      "[[ 4 25 64]\n",
      " [64 36 49]]\n"
     ]
    }
   ],
   "source": [
    "expenses = np.array([[2,5,8],[8,6,7]])\n",
    "print(expenses)\n",
    "#adding 2 with all elements\n",
    "print(expenses+2)\n",
    "\n",
    "#taking square root\n",
    "print(np.sqrt(expenses))\n",
    "\n",
    "#taking square \n",
    "print(expenses**2)"
   ]
  },
  {
   "cell_type": "code",
   "execution_count": 13,
   "id": "421656b1-d9e9-42ce-af71-96eaf30d71fc",
   "metadata": {},
   "outputs": [
    {
     "name": "stdout",
     "output_type": "stream",
     "text": [
      "[ 60 156]\n"
     ]
    }
   ],
   "source": [
    "exp_jan = np.array([10,60])\n",
    "exp_feb = np.array([50,96])\n",
    "exp_total = exp_jan+exp_feb\n",
    "print(exp_total)"
   ]
  },
  {
   "cell_type": "markdown",
   "id": "f662715b-fe9c-43ee-8aab-b65c50f257b2",
   "metadata": {},
   "source": [
    "\n",
    "\n",
    "LIST"
   ]
  },
  {
   "cell_type": "code",
   "execution_count": 14,
   "id": "68055000-afbe-4f1f-8e0e-a67bba600506",
   "metadata": {},
   "outputs": [
    {
     "name": "stdout",
     "output_type": "stream",
     "text": [
      "[1, 'kiruba', 4.5]\n",
      "[1, 'kiruba', 4.5, 4]\n",
      "[1, 'kiruba', 4.5]\n",
      "3\n",
      "4.5\n"
     ]
    }
   ],
   "source": [
    "my_list=[1,\"kiruba\",4.5]\n",
    "print(my_list)\n",
    "\n",
    "my_list.append(4)  #TO ADD A VALUE\n",
    "print(my_list)\n",
    "\n",
    "my_list.remove(4) #TO REMOVE A VALUE\n",
    "print(my_list)  \n",
    "\n",
    "print(len(my_list)) #TO FIND THE LENGTH OF THE LIST\n",
    "\n",
    "print(my_list[2])  \n"
   ]
  },
  {
   "cell_type": "code",
   "execution_count": 15,
   "id": "25b5b1f9-0717-41d6-8dee-13e52fef5f07",
   "metadata": {},
   "outputs": [
    {
     "name": "stdout",
     "output_type": "stream",
     "text": [
      "Initial order ['LAPTOP', 1, 'ELECTRONICS', 9999.0]\n",
      "Updated order ['LAPTOP', 1, 'ELECTRONICS', 9999.0, 'Mouse']\n",
      "Final order ['LAPTOP', 1, 'ELECTRONICS', 9999.0]\n"
     ]
    }
   ],
   "source": [
    "order=[\"LAPTOP\",1,\"ELECTRONICS\",9999.0]\n",
    "print(\"Initial order\",order)\n",
    "\n",
    "order.append(\"Mouse\")#ADD ANOTHER PRODUCT i.e)MOUSE\n",
    "print(\"Updated order\",order)\n",
    "\n",
    "order.remove(\"Mouse\")\n",
    "print(\"Final order\",order)"
   ]
  },
  {
   "cell_type": "markdown",
   "id": "37d17ca1-6cf3-4d74-8812-3de8f424393d",
   "metadata": {},
   "source": [
    "ARRAY"
   ]
  },
  {
   "cell_type": "code",
   "execution_count": 16,
   "id": "263bb92f-9594-4f0b-853e-6da2e1496ee4",
   "metadata": {},
   "outputs": [
    {
     "name": "stdout",
     "output_type": "stream",
     "text": [
      "(3,)\n",
      "2\n"
     ]
    }
   ],
   "source": [
    "my_array = np.array([1,2,3])\n",
    "print(my_array.shape)\n",
    "print(my_array[1])"
   ]
  },
  {
   "cell_type": "code",
   "execution_count": 17,
   "id": "bbb3d780-0ce0-4f41-a952-c04bc091ccde",
   "metadata": {},
   "outputs": [
    {
     "name": "stdout",
     "output_type": "stream",
     "text": [
      "(3, 1)\n"
     ]
    }
   ],
   "source": [
    "my_array_1 = np.array([[1],[2],[3]])\n",
    "print(my_array_1.shape)"
   ]
  },
  {
   "cell_type": "markdown",
   "id": "002caaef-26b2-4908-b843-ade2a6147cc0",
   "metadata": {},
   "source": [
    "\n",
    "\n",
    "ARRAY TO MATRIX"
   ]
  },
  {
   "cell_type": "code",
   "execution_count": 18,
   "id": "0f5ffabd-143a-4593-9a94-4859b7ef070e",
   "metadata": {},
   "outputs": [
    {
     "name": "stdout",
     "output_type": "stream",
     "text": [
      "[[1 6]\n",
      " [2 6]]\n",
      "[[1 2]\n",
      " [6 6]]\n"
     ]
    }
   ],
   "source": [
    "matrix=np.array([[1,6],[2,6]])\n",
    "print(matrix)\n",
    "print(np.transpose(matrix))\n"
   ]
  },
  {
   "cell_type": "code",
   "execution_count": 19,
   "id": "0235d1ca-f997-426f-a695-7bf04b0f7ed0",
   "metadata": {},
   "outputs": [
    {
     "name": "stdout",
     "output_type": "stream",
     "text": [
      "[[5 8]\n",
      " [5 8]]\n",
      "[[1 6]\n",
      " [2 6]]\n",
      "[[ 6 14]\n",
      " [ 7 14]]\n",
      "[[21 78]\n",
      " [21 78]]\n"
     ]
    }
   ],
   "source": [
    "A=np.array([[5,8],[5,8]])\n",
    "B=np.array([[1,6],[2,6]])\n",
    "print(A)\n",
    "print(B)\n",
    "print(A+B)\n",
    "print(np.dot(A,B))"
   ]
  },
  {
   "cell_type": "raw",
   "id": "41cd0eff-231f-43c8-ac2c-1d6df7fa5b8a",
   "metadata": {},
   "source": [
    "\n",
    "\n",
    "create array with steps"
   ]
  },
  {
   "cell_type": "code",
   "execution_count": 20,
   "id": "8576d649-83ac-448c-9c85-4a3f794bc086",
   "metadata": {},
   "outputs": [
    {
     "name": "stdout",
     "output_type": "stream",
     "text": [
      "[ 0  4  8 12 16]\n"
     ]
    }
   ],
   "source": [
    "array_1=np.arange(0,20,4) # arange(Start, stop, step)\n",
    "print(array_1)"
   ]
  },
  {
   "cell_type": "code",
   "execution_count": 22,
   "id": "a829c223-8eb0-4c23-9e5c-d492a40f5c2b",
   "metadata": {},
   "outputs": [
    {
     "name": "stdout",
     "output_type": "stream",
     "text": [
      "[ 0.          3.33333333  6.66666667 10.        ]\n"
     ]
    }
   ],
   "source": [
    "array_2=np.linspace(0,10,4) # arange(Start, stop, step)\n",
    "print(array_2)"
   ]
  },
  {
   "cell_type": "markdown",
   "id": "989b2d30-bb60-4945-aa08-91c771407817",
   "metadata": {},
   "source": [
    "\n",
    "\n",
    "\n",
    "INITIALIZING A ARRAY WITH ONES AND ZEROS"
   ]
  },
  {
   "cell_type": "code",
   "execution_count": 34,
   "id": "31d3997a-ef64-46f8-87a6-2ab39f844de0",
   "metadata": {},
   "outputs": [
    {
     "name": "stdout",
     "output_type": "stream",
     "text": [
      "[[0. 0. 0. 0. 0. 0. 0. 0. 0. 0.]\n",
      " [0. 0. 0. 0. 0. 0. 0. 0. 0. 0.]\n",
      " [0. 0. 0. 0. 0. 0. 0. 0. 0. 0.]\n",
      " [0. 0. 0. 0. 0. 0. 0. 0. 0. 0.]]\n"
     ]
    }
   ],
   "source": [
    "array_2 = np.zeros((4,10))# 4 rows and 10 columns\n",
    "print(array_2)"
   ]
  },
  {
   "cell_type": "code",
   "execution_count": 26,
   "id": "c3eddc38-1dd7-4b97-865d-8ec9af049b94",
   "metadata": {},
   "outputs": [
    {
     "name": "stdout",
     "output_type": "stream",
     "text": [
      "[[1. 1. 1. 1. 1. 1. 1. 1. 1. 1.]\n",
      " [1. 1. 1. 1. 1. 1. 1. 1. 1. 1.]\n",
      " [1. 1. 1. 1. 1. 1. 1. 1. 1. 1.]\n",
      " [1. 1. 1. 1. 1. 1. 1. 1. 1. 1.]]\n",
      "[[12. 12. 12. 12. 12. 12. 12. 12. 12. 12.]\n",
      " [12. 12. 12. 12. 12. 12. 12. 12. 12. 12.]\n",
      " [12. 12. 12. 12. 12. 12. 12. 12. 12. 12.]\n",
      " [12. 12. 12. 12. 12. 12. 12. 12. 12. 12.]]\n"
     ]
    }
   ],
   "source": [
    "array_3 = np.ones((4,10))# 4 rows and 10 columns\n",
    "print(array_3)\n",
    "print(array_3*12)"
   ]
  },
  {
   "cell_type": "markdown",
   "id": "922a48f3-9dcf-42be-a5a4-b4cf3ab5fcf6",
   "metadata": {},
   "source": [
    "\n",
    "\n",
    "RANDOM NUMBERS WITH NUMPY"
   ]
  },
  {
   "cell_type": "code",
   "execution_count": 33,
   "id": "0225bef1-1be5-4ab1-a60a-d7db31342987",
   "metadata": {},
   "outputs": [
    {
     "name": "stdout",
     "output_type": "stream",
     "text": [
      "[0.79747597 0.23947136 0.62409697 0.11557614 0.4083104 ]\n",
      "[ 1.83612148 -1.8688173   0.13239522 -0.25220668  0.11691044  0.93759586\n",
      " -1.4232329  -1.1154532  -0.67850377  0.13154249]\n"
     ]
    }
   ],
   "source": [
    "rand_num=np.random.rand(5)# to create 5 uniform random numbers(0,1)\n",
    "print(rand_num)\n",
    "\n",
    "rand_num=np.random.randn(10)\n",
    "print(rand_num)\n"
   ]
  },
  {
   "cell_type": "code",
   "execution_count": 38,
   "id": "22b1a94e-9167-4b0d-8033-0db8c41c027e",
   "metadata": {},
   "outputs": [
    {
     "name": "stdout",
     "output_type": "stream",
     "text": [
      "Total Cost 6.25\n",
      "Average Cost 1.25\n"
     ]
    }
   ],
   "source": [
    "distance = np.array([2.5, 1.8, 3.2, 0.9, 4.1])\n",
    "fuel_cost=distance*0.5\n",
    "print(\"Total Cost\",fuel_cost.sum())\n",
    "print(\"Average Cost\",fuel_cost.mean())"
   ]
  },
  {
   "cell_type": "code",
   "execution_count": 37,
   "id": "e8a1982b-f13b-4029-aedc-4bda717f0df7",
   "metadata": {},
   "outputs": [
    {
     "name": "stdout",
     "output_type": "stream",
     "text": [
      "Total Cost 4.2\n",
      "Average Cost 1.05\n"
     ]
    }
   ],
   "source": [
    "distance_1= np.array([2.5, 1.8, 3.2, 0.9])\n",
    "fuel_cost_1=distance_1*0.5\n",
    "print(\"Total Cost\",fuel_cost_1.sum())\n",
    "print(\"Average Cost\",fuel_cost_1.mean())"
   ]
  },
  {
   "cell_type": "code",
   "execution_count": 46,
   "id": "efdeeb74-6774-408e-925c-390626db2f61",
   "metadata": {},
   "outputs": [
    {
     "name": "stdout",
     "output_type": "stream",
     "text": [
      "54\n"
     ]
    }
   ],
   "source": [
    "from numpy import random\n",
    "\n",
    "x = random.randint(100)\n",
    "print(x)"
   ]
  },
  {
   "cell_type": "code",
   "execution_count": null,
   "id": "fef6d70b-2233-410c-b5bf-dbce91e42ec2",
   "metadata": {},
   "outputs": [],
   "source": []
  }
 ],
 "metadata": {
  "kernelspec": {
   "display_name": "Python 3 (ipykernel)",
   "language": "python",
   "name": "python3"
  },
  "language_info": {
   "codemirror_mode": {
    "name": "ipython",
    "version": 3
   },
   "file_extension": ".py",
   "mimetype": "text/x-python",
   "name": "python",
   "nbconvert_exporter": "python",
   "pygments_lexer": "ipython3",
   "version": "3.12.7"
  }
 },
 "nbformat": 4,
 "nbformat_minor": 5
}
